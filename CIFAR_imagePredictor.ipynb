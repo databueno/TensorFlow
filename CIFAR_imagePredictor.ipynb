{
  "nbformat": 4,
  "nbformat_minor": 0,
  "metadata": {
    "colab": {
      "name": "CIFAR_imagePredictor.ipynb",
      "provenance": [],
      "collapsed_sections": []
    },
    "kernelspec": {
      "name": "python3",
      "display_name": "Python 3"
    }
  },
  "cells": [
    {
      "cell_type": "markdown",
      "metadata": {
        "id": "L-JMwIxO12uW",
        "colab_type": "text"
      },
      "source": [
        "Deep learning prediction of images from the CIFAR image dataset using convolutional neural network. Image classification of the malaria-Tensorflow dataset using a pretrained MobileNetV2 model\n",
        "\n",
        "@author feBueno, June 2020 fernando.bueno.gutie@gmail.com"
      ]
    },
    {
      "cell_type": "code",
      "metadata": {
        "id": "Ui49yxQC1wkS",
        "colab_type": "code",
        "colab": {}
      },
      "source": [
        "%tensorflow_version 2.x \n",
        "import tensorflow as tf\n",
        "\n",
        "from tensorflow.keras import datasets, layers, models\n",
        "import matplotlib.pyplot as plt"
      ],
      "execution_count": 3,
      "outputs": []
    },
    {
      "cell_type": "markdown",
      "metadata": {
        "id": "y9t11o2q2Yvj",
        "colab_type": "text"
      },
      "source": [
        "Load, split and normalize data"
      ]
    },
    {
      "cell_type": "code",
      "metadata": {
        "id": "A_lNJUWO2RqA",
        "colab_type": "code",
        "colab": {}
      },
      "source": [
        "(train_images, train_labels), (test_images, test_labels) = datasets.cifar10.load_data()# Load data \n",
        "\n",
        "train_images, test_images = train_images / 255.0, test_images / 255.0# Normalize pixel values to be between 0 and 1\n",
        "\n",
        "class_names = ['airplane', 'automobile', 'bird', 'cat', 'deer',\n",
        "               'dog', 'frog', 'horse', 'ship', 'truck']"
      ],
      "execution_count": 4,
      "outputs": []
    },
    {
      "cell_type": "markdown",
      "metadata": {
        "id": "wJEQIf-I2WTc",
        "colab_type": "text"
      },
      "source": [
        "Data exploration"
      ]
    },
    {
      "cell_type": "code",
      "metadata": {
        "id": "YgdwgkFF2-ek",
        "colab_type": "code",
        "colab": {}
      },
      "source": [
        "print(\"train_images class: \"+ str(type(train_images)))\n",
        "print(\"train_images shape: \"+ str(train_images.shape))# input shape\n",
        "print(\"one pixel input: \"+ str(train_images[0,4,17]))# each pixel is a vector of length 3\n",
        "print(\"Labels of the firts 10 samples: \"+str(train_labels[:10])) # print"
      ],
      "execution_count": null,
      "outputs": []
    },
    {
      "cell_type": "code",
      "metadata": {
        "id": "bRiUCCIc2V0Z",
        "colab_type": "code",
        "colab": {}
      },
      "source": [
        "IMG_INDEX = 0  # Image index\n",
        "\n",
        "plt.imshow(train_images[IMG_INDEX] ,cmap=plt.cm.binary)\n",
        "plt.xlabel(class_names[train_labels[IMG_INDEX][0]])\n",
        "plt.show()"
      ],
      "execution_count": null,
      "outputs": []
    },
    {
      "cell_type": "markdown",
      "metadata": {
        "id": "g0DWefD24GmM",
        "colab_type": "text"
      },
      "source": [
        "Model building"
      ]
    },
    {
      "cell_type": "code",
      "metadata": {
        "id": "rfHYDvJA4LEp",
        "colab_type": "code",
        "colab": {}
      },
      "source": [
        "model = models.Sequential()\n",
        "model.add(layers.Conv2D(32, (3, 3), activation='relu', input_shape=(32, 32, 3)))# Each image will be divided in 32 filters of 3x3 pixels\n",
        "model.add(layers.MaxPooling2D((2, 2)))# Stride of 2 (overlap between filter-maps) and 2x2pooling (number of pixels for similarity-assesment)\n",
        "model.add(layers.Conv2D(64, (3, 3), activation='relu'))\n",
        "model.add(layers.MaxPooling2D((2, 2)))\n",
        "model.add(layers.Conv2D(64, (3, 3), activation='relu'))\n",
        "\n",
        "print(model.summary()) \n",
        "\n",
        "#adding dense layers\n",
        "model.add(layers.Flatten())\n",
        "model.add(layers.Dense(64, activation='relu'))\n",
        "model.add(layers.Dense(10))\n",
        "\n",
        "print(\"model after adding dense layers: \")\n",
        "print(model.summary())"
      ],
      "execution_count": null,
      "outputs": []
    },
    {
      "cell_type": "markdown",
      "metadata": {
        "id": "ZQekLeiAADlj",
        "colab_type": "text"
      },
      "source": [
        "Model training"
      ]
    },
    {
      "cell_type": "code",
      "metadata": {
        "id": "w2Oas362AGCg",
        "colab_type": "code",
        "colab": {
          "base_uri": "https://localhost:8080/",
          "height": 153
        },
        "outputId": "e30448dc-3ccb-49d1-9539-de2c63249d77"
      },
      "source": [
        "model.compile(optimizer='adam',\n",
        "              loss=tf.keras.losses.SparseCategoricalCrossentropy(from_logits=True),#the targets are the category indexes. More efficient than CategoricalCrossentropy for large number of categories.\n",
        "              metrics=['accuracy'])\n",
        "\n",
        "history = model.fit(train_images, train_labels, epochs=4, \n",
        "                    validation_data=(test_images, test_labels))"
      ],
      "execution_count": 8,
      "outputs": [
        {
          "output_type": "stream",
          "text": [
            "Epoch 1/4\n",
            "1563/1563 [==============================] - 72s 46ms/step - loss: 1.5327 - accuracy: 0.4391 - val_loss: 1.2747 - val_accuracy: 0.5460\n",
            "Epoch 2/4\n",
            "1563/1563 [==============================] - 69s 44ms/step - loss: 1.1636 - accuracy: 0.5870 - val_loss: 1.0828 - val_accuracy: 0.6228\n",
            "Epoch 3/4\n",
            "1563/1563 [==============================] - 69s 44ms/step - loss: 1.0181 - accuracy: 0.6408 - val_loss: 1.0397 - val_accuracy: 0.6291\n",
            "Epoch 4/4\n",
            "1563/1563 [==============================] - 68s 43ms/step - loss: 0.9243 - accuracy: 0.6777 - val_loss: 0.9631 - val_accuracy: 0.6611\n"
          ],
          "name": "stdout"
        }
      ]
    },
    {
      "cell_type": "markdown",
      "metadata": {
        "id": "DXijQ024DGzt",
        "colab_type": "text"
      },
      "source": [
        "Model evaluation"
      ]
    },
    {
      "cell_type": "code",
      "metadata": {
        "id": "IpB0d1amDGEH",
        "colab_type": "code",
        "colab": {
          "base_uri": "https://localhost:8080/",
          "height": 51
        },
        "outputId": "9949d985-5f40-4150-e149-8146d49927a1"
      },
      "source": [
        "test_loss, test_acc = model.evaluate(test_images,  test_labels, verbose=2)\n",
        "print(test_acc)# ~65% accuracy "
      ],
      "execution_count": 9,
      "outputs": [
        {
          "output_type": "stream",
          "text": [
            "313/313 - 4s - loss: 0.9631 - accuracy: 0.6611\n",
            "0.6610999703407288\n"
          ],
          "name": "stdout"
        }
      ]
    },
    {
      "cell_type": "markdown",
      "metadata": {
        "id": "uR08GuDEDTbV",
        "colab_type": "text"
      },
      "source": [
        "Data augmentation"
      ]
    },
    {
      "cell_type": "code",
      "metadata": {
        "id": "qOLgBrI0DU_0",
        "colab_type": "code",
        "colab": {}
      },
      "source": [
        "from keras.preprocessing import image\n",
        "from keras.preprocessing.image import ImageDataGenerator\n",
        "\n",
        "# create data generator to transform\n",
        "datagen = ImageDataGenerator(\n",
        "featurewise_std_normalization=True,\n",
        "samplewise_std_normalization=True,\n",
        "rotation_range=20,\n",
        "width_shift_range=0.1,\n",
        "height_shift_range=0.1,\n",
        "shear_range=0.3,\n",
        "zoom_range=0.2,\n",
        "vertical_flip=True,\n",
        "fill_mode='wrap')#Points outside the boundaries of the input are filled with repeats \n",
        "\n",
        "test_img = train_images[0]# pick an image to be augmented\n",
        "img = image.img_to_array(test_img)  # convert to numpy array\n",
        "img = img.reshape((1,) + img.shape)  # reshape: change shape without changing data\n",
        "\n",
        "i = 0\n",
        "\n",
        "for batch in datagen.flow(img, save_prefix='dataAugmentationTest', save_format='jpeg'):  # save images in current directory\n",
        "    plt.figure(i)\n",
        "    plot = plt.imshow(image.img_to_array(batch[0]))\n",
        "    i += 1\n",
        "    if i > 4:  # show the first 4 images\n",
        "        break\n",
        "\n",
        "plt.show()"
      ],
      "execution_count": null,
      "outputs": []
    },
    {
      "cell_type": "markdown",
      "metadata": {
        "id": "IgWhAfilMmyD",
        "colab_type": "text"
      },
      "source": [
        "Using pretrained models"
      ]
    },
    {
      "cell_type": "code",
      "metadata": {
        "id": "u_gYmqm_Mqi8",
        "colab_type": "code",
        "colab": {}
      },
      "source": [
        "import os\n",
        "import numpy as np\n",
        "import matplotlib.pyplot as plt\n",
        "import tensorflow as tf\n",
        "keras = tf.keras"
      ],
      "execution_count": 11,
      "outputs": []
    },
    {
      "cell_type": "markdown",
      "metadata": {
        "id": "RsKWAe8hM3vN",
        "colab_type": "text"
      },
      "source": [
        "Load and split data"
      ]
    },
    {
      "cell_type": "code",
      "metadata": {
        "id": "EnWlMs8kMzxt",
        "colab_type": "code",
        "colab": {}
      },
      "source": [
        "import tensorflow_datasets as tfds\n",
        "tfds.disable_progress_bar()\n",
        "\n",
        "# split the data manually into 80% training, 10% testing, 10% validation\n",
        "(raw_train, raw_validation, raw_test), metadata = tfds.load(\n",
        "    'malaria',\n",
        "    split=['train[:80%]', 'train[80%:90%]', 'train[90%:]'],#80% for train, 10% for validation, 10% for test\n",
        "    with_info=True,\n",
        "    as_supervised=True,\n",
        ")"
      ],
      "execution_count": 12,
      "outputs": []
    },
    {
      "cell_type": "code",
      "metadata": {
        "id": "4cQl59s6OfxF",
        "colab_type": "code",
        "colab": {}
      },
      "source": [
        "get_label_name = metadata.features['label'].int2str  # creates a function object that we can use to get labels\n",
        "\n",
        "# display 4 images from the dataset\n",
        "for image, label in raw_train.take(4):\n",
        "  plt.figure()\n",
        "  plt.imshow(image)\n",
        "  plt.title(get_label_name(label))"
      ],
      "execution_count": null,
      "outputs": []
    },
    {
      "cell_type": "markdown",
      "metadata": {
        "id": "EzVgMTozOwmh",
        "colab_type": "text"
      },
      "source": [
        "Data preprocessing"
      ]
    },
    {
      "cell_type": "code",
      "metadata": {
        "id": "RzubljuDOyL7",
        "colab_type": "code",
        "colab": {}
      },
      "source": [
        "#standarize image size\n",
        "def format_example(image, label, img_size = 160):\n",
        "  \"\"\"\n",
        "  returns an image that is reshaped to img_size x img_size\n",
        "  \"\"\"\n",
        "  image = tf.cast(image, tf.float32)\n",
        "  image = (image/127.5) - 1# 255/2=127.5\n",
        "  image = tf.image.resize(image, (img_size, img_size))\n",
        "  return image, label"
      ],
      "execution_count": 14,
      "outputs": []
    },
    {
      "cell_type": "code",
      "metadata": {
        "id": "TouTzkDAPUcb",
        "colab_type": "code",
        "colab": {}
      },
      "source": [
        "train = raw_train.map(format_example)\n",
        "validation = raw_validation.map(format_example)\n",
        "test = raw_test.map(format_example)"
      ],
      "execution_count": 15,
      "outputs": []
    },
    {
      "cell_type": "code",
      "metadata": {
        "id": "sM7rCDpgPW3x",
        "colab_type": "code",
        "colab": {}
      },
      "source": [
        "for image, label in train.take(2):\n",
        "  plt.figure()\n",
        "  plt.imshow(image)\n",
        "  plt.title(get_label_name(label))"
      ],
      "execution_count": null,
      "outputs": []
    },
    {
      "cell_type": "markdown",
      "metadata": {
        "id": "10GYuHI8PmlA",
        "colab_type": "text"
      },
      "source": [
        "Define data batchs"
      ]
    },
    {
      "cell_type": "code",
      "metadata": {
        "id": "N_ZWeU6_PpAu",
        "colab_type": "code",
        "colab": {}
      },
      "source": [
        "batch_size = 30000#the dataset will take the first 30000 filenames and put them in its buffer, then pick one at random among them. \n",
        "#since the malaria dataset contains 27,558 samples, any image can be selected\n",
        "\n",
        "train_batches = train.batch(batch_size)\n",
        "validation_batches = validation.batch(batch_size)\n",
        "test_batches = test.batch(batch_size)"
      ],
      "execution_count": 17,
      "outputs": []
    },
    {
      "cell_type": "code",
      "metadata": {
        "id": "jash2yJoP-ef",
        "colab_type": "code",
        "colab": {}
      },
      "source": [
        "#show image-size prior and after resizing\n",
        "for img, label in raw_train.take(2):\n",
        "  print(\"Original shape:\", img.shape)\n",
        "\n",
        "for img, label in train.take(2):\n",
        "  print(\"New shape:\", img.shape)"
      ],
      "execution_count": null,
      "outputs": []
    },
    {
      "cell_type": "markdown",
      "metadata": {
        "id": "amH8uq7lR1Aq",
        "colab_type": "text"
      },
      "source": [
        "Picking a pretrained model"
      ]
    },
    {
      "cell_type": "code",
      "metadata": {
        "id": "Fjj2ROXsR3WD",
        "colab_type": "code",
        "colab": {}
      },
      "source": [
        "img_shape = (160, 160, 3)\n",
        "\n",
        "# Create the base model from the pre-trained model MobileNet V2. This was dessigned for 1000 classes problems\n",
        "base_model = tf.keras.applications.MobileNetV2(input_shape=img_shape,\n",
        "                                               include_top=False,# do not include the classifier\n",
        "                                               weights='imagenet')# pre-training on ImageNet\n",
        "base_model.summary()"
      ],
      "execution_count": null,
      "outputs": []
    },
    {
      "cell_type": "markdown",
      "metadata": {
        "id": "3CcGA64TXGHd",
        "colab_type": "text"
      },
      "source": [
        "The pretrained model outputs (32, 5, 5, 1280) that is a feauture extraction of our original (1,160, 160, 3) "
      ]
    },
    {
      "cell_type": "code",
      "metadata": {
        "id": "XrOCcD9pS6vp",
        "colab_type": "code",
        "colab": {}
      },
      "source": [
        "base_model.trainable = False\n",
        "base_model.summary()"
      ],
      "execution_count": null,
      "outputs": []
    },
    {
      "cell_type": "markdown",
      "metadata": {
        "id": "90JbCjoLYvAF",
        "colab_type": "text"
      },
      "source": [
        "Adding a classifier for Malaria VS Healthy"
      ]
    },
    {
      "cell_type": "code",
      "metadata": {
        "id": "Wbl577qcYwvF",
        "colab_type": "code",
        "colab": {}
      },
      "source": [
        "global_average_layer = tf.keras.layers.GlobalAveragePooling2D()"
      ],
      "execution_count": 21,
      "outputs": []
    },
    {
      "cell_type": "code",
      "metadata": {
        "id": "K9ypDDhBY6sj",
        "colab_type": "code",
        "colab": {}
      },
      "source": [
        "prediction_layer = keras.layers.Dense(1)# 1 single dense neuron because there are only two classes to predict"
      ],
      "execution_count": 22,
      "outputs": []
    },
    {
      "cell_type": "code",
      "metadata": {
        "id": "GBvXfZiaZJu_",
        "colab_type": "code",
        "colab": {}
      },
      "source": [
        "model = tf.keras.Sequential([\n",
        "  base_model,\n",
        "  global_average_layer,\n",
        "  prediction_layer\n",
        "])"
      ],
      "execution_count": 23,
      "outputs": []
    },
    {
      "cell_type": "code",
      "metadata": {
        "id": "o8Rx9O-SZLhi",
        "colab_type": "code",
        "colab": {
          "base_uri": "https://localhost:8080/",
          "height": 255
        },
        "outputId": "e161b335-451a-4533-fb8e-242bf8e3fabe"
      },
      "source": [
        "model.summary()"
      ],
      "execution_count": 24,
      "outputs": [
        {
          "output_type": "stream",
          "text": [
            "Model: \"sequential_1\"\n",
            "_________________________________________________________________\n",
            "Layer (type)                 Output Shape              Param #   \n",
            "=================================================================\n",
            "mobilenetv2_1.00_160 (Model) (None, 5, 5, 1280)        2257984   \n",
            "_________________________________________________________________\n",
            "global_average_pooling2d (Gl (None, 1280)              0         \n",
            "_________________________________________________________________\n",
            "dense_2 (Dense)              (None, 1)                 1281      \n",
            "=================================================================\n",
            "Total params: 2,259,265\n",
            "Trainable params: 1,281\n",
            "Non-trainable params: 2,257,984\n",
            "_________________________________________________________________\n"
          ],
          "name": "stdout"
        }
      ]
    },
    {
      "cell_type": "markdown",
      "metadata": {
        "id": "XSgy_F8EZO9f",
        "colab_type": "text"
      },
      "source": [
        "Model training"
      ]
    },
    {
      "cell_type": "code",
      "metadata": {
        "id": "YxBnZbMZZyWd",
        "colab_type": "code",
        "colab": {}
      },
      "source": [
        "base_learning_rate = 0.0001\n",
        "model.compile(optimizer=tf.keras.optimizers.RMSprop(lr=base_learning_rate),\n",
        "              loss=tf.keras.losses.BinaryCrossentropy(from_logits=True),# from logits for numeric stability\n",
        "              metrics=['accuracy'])"
      ],
      "execution_count": 25,
      "outputs": []
    },
    {
      "cell_type": "code",
      "metadata": {
        "id": "37_F7BsqZ2Vr",
        "colab_type": "code",
        "colab": {}
      },
      "source": [
        "history = model.fit(train_batches,\n",
        "                    epochs=initial_epochs,\n",
        "                    validation_data=validation_batches)\n",
        "\n",
        "acc = history.history['accuracy']\n",
        "print(acc)"
      ],
      "execution_count": null,
      "outputs": []
    },
    {
      "cell_type": "code",
      "metadata": {
        "id": "9BOcz1NVZ4Kl",
        "colab_type": "code",
        "colab": {}
      },
      "source": [
        "model.save(\"malaria.h5\")\n",
        "new_model = tf.keras.models.load_model('malaria.h5')"
      ],
      "execution_count": null,
      "outputs": []
    }
  ]
}