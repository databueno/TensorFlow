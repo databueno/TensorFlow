{
  "nbformat": 4,
  "nbformat_minor": 0,
  "metadata": {
    "colab": {
      "name": "BRCArecurrenceTime.ipynb",
      "provenance": [],
      "collapsed_sections": []
    },
    "kernelspec": {
      "name": "python3",
      "display_name": "Python 3"
    }
  },
  "cells": [
    {
      "cell_type": "markdown",
      "metadata": {
        "id": "WueD5vK9KL26",
        "colab_type": "text"
      },
      "source": [
        "Deep learning prediction of time to Breast Cancer recurrence. Data: https://archive.ics.uci.edu/ml/datasets/Breast+Cancer+Wisconsin+(Prognostic)\n",
        "\n",
        "@author feBueno, June 2020 fernando.bueno.gutie@gmail.com"
      ]
    },
    {
      "cell_type": "code",
      "metadata": {
        "id": "Q154z3oQKGlu",
        "colab_type": "code",
        "colab": {}
      },
      "source": [
        "%tensorflow_version 2.x \n",
        "from __future__ import absolute_import, division, print_function, unicode_literals\n",
        "\n",
        "import numpy as np\n",
        "import pandas as pd\n",
        "import matplotlib.pyplot as plt\n",
        "from IPython.display import clear_output\n",
        "from six.moves import urllib\n",
        "\n",
        "import tensorflow.compat.v2.feature_column as fc\n",
        "from tensorflow import keras\n",
        "from tensorflow.keras import layers\n",
        "import tensorflow as tf\n",
        "\n",
        "import pathlib\n",
        "import seaborn as sns\n"
      ],
      "execution_count": 9,
      "outputs": []
    },
    {
      "cell_type": "code",
      "metadata": {
        "id": "ARj0d5DR0Ady",
        "colab_type": "code",
        "colab": {
          "base_uri": "https://localhost:8080/",
          "height": 34
        },
        "outputId": "ed41d303-9e6c-4048-fc34-6bacff3117a2"
      },
      "source": [
        "!pip install -q git+https://github.com/tensorflow/docs\n",
        "import tensorflow_docs as tfdocs\n",
        "import tensorflow_docs.plots\n",
        "import tensorflow_docs.modeling\n"
      ],
      "execution_count": 10,
      "outputs": [
        {
          "output_type": "stream",
          "text": [
            "  Building wheel for tensorflow-docs (setup.py) ... \u001b[?25l\u001b[?25hdone\n"
          ],
          "name": "stdout"
        }
      ]
    },
    {
      "cell_type": "markdown",
      "metadata": {
        "id": "2mRsCVv2KbTf",
        "colab_type": "text"
      },
      "source": [
        "Data loading and define train/test sets"
      ]
    },
    {
      "cell_type": "code",
      "metadata": {
        "id": "TGY6SmtFKXUY",
        "colab_type": "code",
        "colab": {}
      },
      "source": [
        "data_df = pd.read_csv('https://archive.ics.uci.edu/ml/machine-learning-databases/breast-cancer-wisconsin/wpbc.data', header=None)\n",
        "data_df.columns = data_df.columns.map(str)#set colnames as trings\n",
        "#print(data_df.isna().sum())#check missing\n",
        "\n",
        "\n",
        "data_df=data_df.rename(columns = {'0':'Id','1':'Recurrence','2':'Time'})#rename the first 3 columns\n",
        "\n",
        "#define dependent variable as numeric\n",
        "data_df['Recurrence']=data_df['Recurrence'].str.replace('N', '0')#R = 1 = recurrent, N = 0 = nonrecurrent\n",
        "data_df['Recurrence']=data_df['Recurrence'].str.replace('R', '1')\n",
        "data_df['Recurrence']=data_df['Recurrence'].astype('int64')\n",
        "\n",
        "data_df=data_df[data_df['Recurrence'] == 1]#Only 47/198 samples are recurrent and will be considered\n",
        "\n",
        "#random sample 70% of observations as training set\n",
        "train_df=data_df.sample(frac=0.7)\n",
        "test_df = data_df.drop(train_df.index)\n",
        "print(test_df.shape)#The test set will consist of only 14 instances (30% of 47)\n",
        "\n",
        "#separate dependent variable\n",
        "y_train_series = train_df.pop('Time')\n",
        "y_test_series = test_df.pop('Time')\n",
        "\n",
        "train_df=train_df.iloc[:,2:33]#Remove Id and trivial categorical variable that indicates that all instances considered are recurrent\n",
        "test_df=test_df.iloc[:,2:33]"
      ],
      "execution_count": null,
      "outputs": []
    },
    {
      "cell_type": "markdown",
      "metadata": {
        "id": "4Kpkr5dIQF2h",
        "colab_type": "text"
      },
      "source": [
        "Normalize data"
      ]
    },
    {
      "cell_type": "code",
      "metadata": {
        "id": "OxTvKF3AQE36",
        "colab_type": "code",
        "colab": {}
      },
      "source": [
        "train_stats = train_df.describe()\n",
        "train_stats = train_stats.transpose()\n",
        "\n",
        "def norm(x):#convert to z-scores\n",
        "  return (x - train_stats['mean']) / train_stats['std']#test is also standarized based on train\n",
        "normed_train_df = norm(train_df)\n",
        "normed_test_df = norm(test_df)"
      ],
      "execution_count": 12,
      "outputs": []
    },
    {
      "cell_type": "markdown",
      "metadata": {
        "id": "X4PN_Gc-cMc9",
        "colab_type": "text"
      },
      "source": [
        "Data exploration"
      ]
    },
    {
      "cell_type": "code",
      "metadata": {
        "id": "zCG0fw5ybkjU",
        "colab_type": "code",
        "colab": {}
      },
      "source": [
        "sns.pairplot(train_df[[\"3\", \"4\", \"5\", \"6\"]], diag_kind=\"kde\")#Pairwise joint distribution for the first 4 predictors"
      ],
      "execution_count": null,
      "outputs": []
    },
    {
      "cell_type": "markdown",
      "metadata": {
        "id": "ZWFLtlnU6FSV",
        "colab_type": "text"
      },
      "source": [
        "Model building"
      ]
    },
    {
      "cell_type": "code",
      "metadata": {
        "id": "m1rzxZnQh_7V",
        "colab_type": "code",
        "colab": {}
      },
      "source": [
        "def build_model():# two densely connected hidden layers\n",
        "  model = keras.Sequential([\n",
        "    layers.Dense(64, activation='relu', input_shape=[len(train_df.keys())]),\n",
        "    layers.Dense(64, activation='relu'),\n",
        "    layers.Dense(1)\n",
        "  ])\n",
        "\n",
        "  optimizer = tf.keras.optimizers.RMSprop(0.001)\n",
        "\n",
        "  model.compile(loss='mse',\n",
        "                optimizer=optimizer,\n",
        "                metrics=['mae', 'mse'])#mean absolute error and mean squared error\n",
        "  return model\n",
        "\n",
        "model = build_model()\n",
        "\n",
        "model.summary()\n",
        "\n",
        "#check, for the first 10 instances, that the model returns a single continuous output value per instance\n",
        "example_batch = normed_train_df[:10]\n",
        "example_result = model.predict(example_batch)\n",
        "example_result"
      ],
      "execution_count": null,
      "outputs": []
    },
    {
      "cell_type": "markdown",
      "metadata": {
        "id": "jU2-t1fS6MVY",
        "colab_type": "text"
      },
      "source": [
        "Model train"
      ]
    },
    {
      "cell_type": "code",
      "metadata": {
        "id": "bbn9uM7NkKMk",
        "colab_type": "code",
        "colab": {}
      },
      "source": [
        "EPOCHS = 1000# n times that the etire dataset will pass through the model\n",
        "\n",
        "history = model.fit(\n",
        "  normed_train_df, y_train_series,\n",
        "  epochs=EPOCHS, validation_split = 0.2, verbose=0,\n",
        "  callbacks=[tfdocs.modeling.EpochDots()],)\n"
      ],
      "execution_count": null,
      "outputs": []
    },
    {
      "cell_type": "markdown",
      "metadata": {
        "id": "c-0izqqI6RiE",
        "colab_type": "text"
      },
      "source": [
        "Results evaluation"
      ]
    },
    {
      "cell_type": "code",
      "metadata": {
        "id": "xA7y8iJeus0-",
        "colab_type": "code",
        "colab": {
          "base_uri": "https://localhost:8080/",
          "height": 204
        },
        "outputId": "fa3700ae-cbc0-423a-d561-fb17910bdc7f"
      },
      "source": [
        "hist = pd.DataFrame(history.history)\n",
        "hist['epoch'] = history.epoch\n",
        "hist.tail()# seems that the validation error does not keep improving in the last epochs"
      ],
      "execution_count": 17,
      "outputs": [
        {
          "output_type": "execute_result",
          "data": {
            "text/html": [
              "<div>\n",
              "<style scoped>\n",
              "    .dataframe tbody tr th:only-of-type {\n",
              "        vertical-align: middle;\n",
              "    }\n",
              "\n",
              "    .dataframe tbody tr th {\n",
              "        vertical-align: top;\n",
              "    }\n",
              "\n",
              "    .dataframe thead th {\n",
              "        text-align: right;\n",
              "    }\n",
              "</style>\n",
              "<table border=\"1\" class=\"dataframe\">\n",
              "  <thead>\n",
              "    <tr style=\"text-align: right;\">\n",
              "      <th></th>\n",
              "      <th>loss</th>\n",
              "      <th>mae</th>\n",
              "      <th>mse</th>\n",
              "      <th>val_loss</th>\n",
              "      <th>val_mae</th>\n",
              "      <th>val_mse</th>\n",
              "      <th>epoch</th>\n",
              "    </tr>\n",
              "  </thead>\n",
              "  <tbody>\n",
              "    <tr>\n",
              "      <th>995</th>\n",
              "      <td>0.410771</td>\n",
              "      <td>0.476079</td>\n",
              "      <td>0.410771</td>\n",
              "      <td>446.728668</td>\n",
              "      <td>16.445374</td>\n",
              "      <td>446.728668</td>\n",
              "      <td>995</td>\n",
              "    </tr>\n",
              "    <tr>\n",
              "      <th>996</th>\n",
              "      <td>0.408537</td>\n",
              "      <td>0.456787</td>\n",
              "      <td>0.408537</td>\n",
              "      <td>391.948059</td>\n",
              "      <td>15.260337</td>\n",
              "      <td>391.948059</td>\n",
              "      <td>996</td>\n",
              "    </tr>\n",
              "    <tr>\n",
              "      <th>997</th>\n",
              "      <td>0.407192</td>\n",
              "      <td>0.439724</td>\n",
              "      <td>0.407192</td>\n",
              "      <td>444.866180</td>\n",
              "      <td>16.413410</td>\n",
              "      <td>444.866180</td>\n",
              "      <td>997</td>\n",
              "    </tr>\n",
              "    <tr>\n",
              "      <th>998</th>\n",
              "      <td>0.370306</td>\n",
              "      <td>0.409784</td>\n",
              "      <td>0.370306</td>\n",
              "      <td>394.304688</td>\n",
              "      <td>15.301208</td>\n",
              "      <td>394.304688</td>\n",
              "      <td>998</td>\n",
              "    </tr>\n",
              "    <tr>\n",
              "      <th>999</th>\n",
              "      <td>0.346938</td>\n",
              "      <td>0.389682</td>\n",
              "      <td>0.346938</td>\n",
              "      <td>442.019775</td>\n",
              "      <td>16.371780</td>\n",
              "      <td>442.019775</td>\n",
              "      <td>999</td>\n",
              "    </tr>\n",
              "  </tbody>\n",
              "</table>\n",
              "</div>"
            ],
            "text/plain": [
              "         loss       mae       mse    val_loss    val_mae     val_mse  epoch\n",
              "995  0.410771  0.476079  0.410771  446.728668  16.445374  446.728668    995\n",
              "996  0.408537  0.456787  0.408537  391.948059  15.260337  391.948059    996\n",
              "997  0.407192  0.439724  0.407192  444.866180  16.413410  444.866180    997\n",
              "998  0.370306  0.409784  0.370306  394.304688  15.301208  394.304688    998\n",
              "999  0.346938  0.389682  0.346938  442.019775  16.371780  442.019775    999"
            ]
          },
          "metadata": {
            "tags": []
          },
          "execution_count": 17
        }
      ]
    },
    {
      "cell_type": "code",
      "metadata": {
        "id": "pZ6B8Lr6zpr4",
        "colab_type": "code",
        "colab": {}
      },
      "source": [
        "plotter = tfdocs.plots.HistoryPlotter(smoothing_std=2)\n",
        "plotter.plot({'Basic': history}, metric = \"mae\")\n",
        "plt.ylabel('MAE [time]')# seems that after ~300 epoch the model does not improve any more\n"
      ],
      "execution_count": null,
      "outputs": []
    },
    {
      "cell_type": "code",
      "metadata": {
        "id": "lDiB9tIP0zG7",
        "colab_type": "code",
        "colab": {}
      },
      "source": [
        "plotter.plot({'Basic': history}, metric = \"mse\")\n",
        "plt.ylabel('MSE [time^2]')# the same seems to ocurr for the MSE\n"
      ],
      "execution_count": null,
      "outputs": []
    },
    {
      "cell_type": "code",
      "metadata": {
        "id": "rorAC_WT3_PU",
        "colab_type": "code",
        "colab": {}
      },
      "source": [
        "#stop training when the validation does not improve\n",
        "model = build_model()\n",
        "\n",
        "early_stop = keras.callbacks.EarlyStopping(monitor='val_loss', patience=10)\n",
        "\n",
        "early_history = model.fit(normed_train_df, y_train_series, \n",
        "                    epochs=EPOCHS, validation_split = 0.2, verbose=0, \n",
        "                    callbacks=[early_stop, tfdocs.modeling.EpochDots()])"
      ],
      "execution_count": null,
      "outputs": []
    },
    {
      "cell_type": "code",
      "metadata": {
        "id": "aqxJ4q3y4Y60",
        "colab_type": "code",
        "colab": {}
      },
      "source": [
        "plotter.plot({'Early Stopping': early_history}, metric = \"mae\")\n",
        "plt.ylabel('MAE [time]')# seems that early stopping for the validation is at ~35 epochs"
      ],
      "execution_count": null,
      "outputs": []
    },
    {
      "cell_type": "code",
      "metadata": {
        "id": "Tqc4_q6U4dTK",
        "colab_type": "code",
        "colab": {
          "base_uri": "https://localhost:8080/",
          "height": 51
        },
        "outputId": "39fff282-315a-46b2-e869-47c3b3baeee3"
      },
      "source": [
        "loss, mae, mse = model.evaluate(normed_test_df, y_test_series, verbose=2)\n",
        "\n",
        "print(\"Testing set Mean Abs Error: {:5.2f} time\".format(mae))"
      ],
      "execution_count": 27,
      "outputs": [
        {
          "output_type": "stream",
          "text": [
            "1/1 - 0s - loss: 294.7453 - mae: 13.4925 - mse: 294.7453\n",
            "Testing set Mean Abs Error: 13.49 time\n"
          ],
          "name": "stdout"
        }
      ]
    },
    {
      "cell_type": "code",
      "metadata": {
        "id": "SgdMJxgp4t0n",
        "colab_type": "code",
        "colab": {}
      },
      "source": [
        "#observed VS predicted. Number of points at both sides of predictions line is similar\n",
        "test_predictions = model.predict(normed_test_df).flatten()\n",
        "\n",
        "a = plt.axes(aspect='equal')\n",
        "plt.scatter(y_test_series, test_predictions)\n",
        "plt.xlabel('True Values [time]')\n",
        "plt.ylabel('Predictions [time]')\n",
        "lims = [0, 50]\n",
        "plt.xlim(lims)\n",
        "plt.ylim(lims)\n",
        "_ = plt.plot(lims, lims)"
      ],
      "execution_count": null,
      "outputs": []
    },
    {
      "cell_type": "code",
      "metadata": {
        "id": "RdTa1hRE428Z",
        "colab_type": "code",
        "colab": {}
      },
      "source": [
        "error = test_predictions - y_test_series# negative and positive residuals seem to be balanced\n",
        "plt.hist(error, bins = 10)\n",
        "plt.xlabel(\"Prediction Error [time]\")\n",
        "_ = plt.ylabel(\"Count\")"
      ],
      "execution_count": null,
      "outputs": []
    }
  ]
}