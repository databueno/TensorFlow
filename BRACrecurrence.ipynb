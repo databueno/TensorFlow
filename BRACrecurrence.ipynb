{
  "nbformat": 4,
  "nbformat_minor": 0,
  "metadata": {
    "colab": {
      "name": "BRACrecurrence.ipynb",
      "provenance": [],
      "collapsed_sections": []
    },
    "kernelspec": {
      "name": "python3",
      "display_name": "Python 3"
    }
  },
  "cells": [
    {
      "cell_type": "markdown",
      "metadata": {
        "id": "hx6b_IDbpZqG",
        "colab_type": "text"
      },
      "source": [
        "Linear regression to predict probability of Breast Cancer recurrence. Data:\n",
        "https://archive.ics.uci.edu/ml/datasets/Breast+Cancer+Wisconsin+(Prognostic)\n",
        "\n",
        "@author feBueno, June 2020\n",
        "fernando.bueno.gutie@gmail.com"
      ]
    },
    {
      "cell_type": "code",
      "metadata": {
        "id": "7MI77UApozdu",
        "colab_type": "code",
        "colab": {}
      },
      "source": [
        "%tensorflow_version 2.x \n",
        "from __future__ import absolute_import, division, print_function, unicode_literals\n",
        "\n",
        "import numpy as np\n",
        "import pandas as pd\n",
        "import matplotlib.pyplot as plt\n",
        "from IPython.display import clear_output\n",
        "from six.moves import urllib\n",
        "\n",
        "import tensorflow.compat.v2.feature_column as fc\n",
        "\n",
        "import tensorflow as tf"
      ],
      "execution_count": 0,
      "outputs": []
    },
    {
      "cell_type": "markdown",
      "metadata": {
        "id": "3HhGKe7K0IEV",
        "colab_type": "text"
      },
      "source": [
        "Data loading and define train/test sets"
      ]
    },
    {
      "cell_type": "code",
      "metadata": {
        "id": "jgOrB86bp3qr",
        "colab_type": "code",
        "colab": {}
      },
      "source": [
        "data_df = pd.read_csv('https://archive.ics.uci.edu/ml/machine-learning-databases/breast-cancer-wisconsin/wpbc.data', header=None)\n",
        "data_df.columns = data_df.columns.map(str)#set colnames as trings\n",
        "\n",
        "data_df=data_df.rename(columns = {'0':'Id','1':'Recurrence','2':'Time'})#rename the firts 3 columns\n",
        "\n",
        "#define dependent variable as numeric\n",
        "data_df['Recurrence']=data_df['Recurrence'].str.replace('N', '0')#R = 1 = recurrent, N = 0 = nonrecurrent\n",
        "data_df['Recurrence']=data_df['Recurrence'].str.replace('R', '1')\n",
        "data_df['Recurrence']=data_df['Recurrence'].astype('int64')\n",
        "\n",
        "#random sample 70% of observations as training set\n",
        "train_df=data_df.sample(frac=0.7)\n",
        "test_df=data_df[~data_df.index.isin(train_df.index)]\n",
        "\n",
        "#separate dependent variable\n",
        "y_train_series = train_df.pop('Recurrence')\n",
        "y_test_series = test_df.pop('Recurrence')\n",
        "\n",
        "print(train_df[5:9])\n",
        "print(y_train_series)\n",
        "print(train_df.shape)\n"
      ],
      "execution_count": 0,
      "outputs": []
    },
    {
      "cell_type": "markdown",
      "metadata": {
        "id": "-f3Fi3aWG9nd",
        "colab_type": "text"
      },
      "source": [
        "Some quick data exploration on the train set. Boxplots for the complete dataset for all variables can be found in https://www.openml.org/d/191"
      ]
    },
    {
      "cell_type": "code",
      "metadata": {
        "id": "lmcbEhX9HHu2",
        "colab_type": "code",
        "colab": {}
      },
      "source": [
        "print(data_df.median())#median of all variables, as in https://www.openml.org/d/191\n",
        "train_df.iloc[:, 1].value_counts().plot(kind='barh')#Dependent variable boxplot"
      ],
      "execution_count": 0,
      "outputs": []
    },
    {
      "cell_type": "code",
      "metadata": {
        "id": "jQwznkHzG02B",
        "colab_type": "code",
        "colab": {}
      },
      "source": [
        "train_df.iloc[:, 1].hist(bins=20)#histogram of the 1st predictor: 'Time'"
      ],
      "execution_count": 0,
      "outputs": []
    },
    {
      "cell_type": "code",
      "metadata": {
        "id": "Xksb1QZT0sGg",
        "colab_type": "code",
        "colab": {}
      },
      "source": [
        "train_df.iloc[:, 2].hist(bins=20)#histogram of the 2nd predictor: '1'"
      ],
      "execution_count": 0,
      "outputs": []
    },
    {
      "cell_type": "markdown",
      "metadata": {
        "id": "MFKjn5TIHgIZ",
        "colab_type": "text"
      },
      "source": [
        "Feature columns that will be passed to the classifier"
      ]
    },
    {
      "cell_type": "code",
      "metadata": {
        "id": "3hpAZZoDlN1k",
        "colab_type": "code",
        "colab": {}
      },
      "source": [
        "NUMERIC_COLUMNS = list(train_df.columns[2:33])#last predictor has missing data, so, we avoid it for now\n",
        "\n",
        "feature_columns = []\n",
        "\n",
        "for feature_name in NUMERIC_COLUMNS:\n",
        "  feature_columns.append(tf.feature_column.numeric_column(str(feature_name), dtype=tf.float32))"
      ],
      "execution_count": 0,
      "outputs": []
    },
    {
      "cell_type": "markdown",
      "metadata": {
        "id": "Sp_eGA192Inj",
        "colab_type": "text"
      },
      "source": [
        "Define a function that returns an input function that can be fit in the classifier. The input function should return batches of data in tf.data.Dataset format"
      ]
    },
    {
      "cell_type": "code",
      "metadata": {
        "id": "4vi1FgdLyF8u",
        "colab_type": "code",
        "colab": {}
      },
      "source": [
        "def make_input_fn(data_df, label_df, num_epochs=10, shuffle=True, batch_size=20):\n",
        "  def input_function():  #inner function, this will be returned\n",
        "    ds = tf.data.Dataset.from_tensor_slices((dict(data_df), label_df))  #create tf.data.Dataset object with data and its label\n",
        "    if shuffle:\n",
        "      ds = ds.shuffle(1000)  #randomize order of data\n",
        "    ds = ds.batch(batch_size).repeat(num_epochs)  #split dataset into batches of 20 and repeat process for number of epochs\n",
        "    return ds  #return a batch of the dataset\n",
        "  return input_function  #return a function object for use\n",
        "\n",
        "train_input_fn = make_input_fn(train_df, y_train_series)  #call the input_function that was returned to us to get a dataset object we can feed to the model\n",
        "eval_input_fn = make_input_fn(test_df, y_test_series, num_epochs=1, shuffle=False)\n",
        "print(train_input_fn)"
      ],
      "execution_count": 0,
      "outputs": []
    },
    {
      "cell_type": "markdown",
      "metadata": {
        "id": "9QPd3m-Kyg9P",
        "colab_type": "text"
      },
      "source": [
        "Create classifier"
      ]
    },
    {
      "cell_type": "code",
      "metadata": {
        "id": "Jy4BYGQoybTL",
        "colab_type": "code",
        "colab": {}
      },
      "source": [
        "linear_est = tf.estimator.LinearClassifier(feature_columns=feature_columns)"
      ],
      "execution_count": 0,
      "outputs": []
    },
    {
      "cell_type": "markdown",
      "metadata": {
        "id": "w10_fN7mynC5",
        "colab_type": "text"
      },
      "source": [
        "Train the model and print accuracy"
      ]
    },
    {
      "cell_type": "code",
      "metadata": {
        "id": "c857KdrjymSs",
        "colab_type": "code",
        "colab": {}
      },
      "source": [
        "linear_est.train(train_input_fn)  #train\n",
        "result = linear_est.evaluate(eval_input_fn)  #get model metrics/stats by testing on tetsing data\n",
        "\n",
        "clear_output()  #clears console output\n",
        "print(result['accuracy'])  #print accuracy from dict of model stats"
      ],
      "execution_count": 0,
      "outputs": []
    },
    {
      "cell_type": "markdown",
      "metadata": {
        "id": "wq729UV53Qgf",
        "colab_type": "text"
      },
      "source": [
        "Make novel predictions on test set"
      ]
    },
    {
      "cell_type": "code",
      "metadata": {
        "id": "ZWPnRwqSy7EW",
        "colab_type": "code",
        "colab": {}
      },
      "source": [
        "pred_dicts = list(linear_est.predict(eval_input_fn))\n",
        "probs = pd.Series([pred['probabilities'][1] for pred in pred_dicts])\n",
        "\n",
        "probs.plot(kind='hist', bins=20, title='predicted probabilities')"
      ],
      "execution_count": 0,
      "outputs": []
    },
    {
      "cell_type": "markdown",
      "metadata": {
        "id": "4UQN0CNV0GH2",
        "colab_type": "text"
      },
      "source": [
        ""
      ]
    },
    {
      "cell_type": "markdown",
      "metadata": {
        "id": "Q_DZ_L3cp4OR",
        "colab_type": "text"
      },
      "source": [
        ""
      ]
    }
  ]
}