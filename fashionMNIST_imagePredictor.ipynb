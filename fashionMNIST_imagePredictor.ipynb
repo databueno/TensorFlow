{
  "nbformat": 4,
  "nbformat_minor": 0,
  "metadata": {
    "colab": {
      "name": "fashionMNIST_imagePredictor.ipynb",
      "provenance": [],
      "collapsed_sections": []
    },
    "kernelspec": {
      "name": "python3",
      "display_name": "Python 3"
    }
  },
  "cells": [
    {
      "cell_type": "markdown",
      "metadata": {
        "id": "cfQzNICilHop",
        "colab_type": "text"
      },
      "source": [
        "\n",
        "Deep learning prediction of images from the fashion-MNIST dataset. \n",
        "Provided sample index, prints the sample-image as well as two Strings with predicted and observed labels (clothes articles)\n",
        "\n",
        "@author feBueno, June 2020 fernando.bueno.gutie@gmail.com\n",
        "\n",
        "\n"
      ]
    },
    {
      "cell_type": "code",
      "metadata": {
        "id": "PX2WX1Q3k58J",
        "colab_type": "code",
        "colab": {}
      },
      "source": [
        "%tensorflow_version 2.x\n",
        "# TensorFlow and tf.keras\n",
        "import tensorflow as tf\n",
        "from tensorflow import keras\n",
        "\n",
        "# Helper libraries\n",
        "import numpy as np\n",
        "import matplotlib.pyplot as plt"
      ],
      "execution_count": 4,
      "outputs": []
    },
    {
      "cell_type": "code",
      "metadata": {
        "id": "jGVWRZrtlcGu",
        "colab_type": "code",
        "colab": {}
      },
      "source": [
        "fashion_mnist = keras.datasets.fashion_mnist  # load dataset\n",
        "\n",
        "(train_images, train_labels), (test_images, test_labels) = fashion_mnist.load_data()  # split into tetsing and training"
      ],
      "execution_count": 5,
      "outputs": []
    },
    {
      "cell_type": "markdown",
      "metadata": {
        "id": "Sgjom52uo2MH",
        "colab_type": "text"
      },
      "source": [
        "Data exploration"
      ]
    },
    {
      "cell_type": "code",
      "metadata": {
        "id": "iU-p7ngIlfDI",
        "colab_type": "code",
        "colab": {}
      },
      "source": [
        "print(\"train_images class: \"+ str(type(train_images)))\n",
        "print(np.ptp(train_images,axis=1))# Print the range of some of these variables. Each sample-pixel is a number in [0-255]\n",
        "print(\"one pixel input: \"+ str(train_images[0,4,17]))  # To access one pixel\n",
        "print(\"Labels of the firts 10 samples: \"+str(train_labels[:10])) # print labels examples. Values in [0-9], each representing an article\n",
        "class_names = ['T-shirt/top', 'Trouser', 'Pullover', 'Dress', 'Coat',\n",
        "               'Sandal', 'Shirt', 'Sneaker', 'Bag', 'Ankle boot']"
      ],
      "execution_count": null,
      "outputs": []
    },
    {
      "cell_type": "code",
      "metadata": {
        "id": "X2Gl_pK6nq2t",
        "colab_type": "code",
        "colab": {}
      },
      "source": [
        "#show any sample. Each sample conists of 784 values in [0-255] that together make an image\n",
        "plt.figure()\n",
        "plt.imshow(train_images[0])\n",
        "plt.colorbar()\n",
        "plt.grid(False)\n",
        "plt.show()"
      ],
      "execution_count": null,
      "outputs": []
    },
    {
      "cell_type": "markdown",
      "metadata": {
        "id": "tyDR1TUap79c",
        "colab_type": "text"
      },
      "source": [
        "Data preprocessing"
      ]
    },
    {
      "cell_type": "code",
      "metadata": {
        "id": "SXi2UoJfp-0p",
        "colab_type": "code",
        "colab": {}
      },
      "source": [
        "train_images = train_images / 255.0#set data to [0-1]\n",
        "test_images = test_images / 255.0"
      ],
      "execution_count": 21,
      "outputs": []
    },
    {
      "cell_type": "markdown",
      "metadata": {
        "id": "Kl7Wz6HTqLmf",
        "colab_type": "text"
      },
      "source": [
        "Model building"
      ]
    },
    {
      "cell_type": "code",
      "metadata": {
        "id": "Fp0XwS7JqNyO",
        "colab_type": "code",
        "colab": {}
      },
      "source": [
        "model = keras.Sequential([\n",
        "    keras.layers.Flatten(input_shape=(28, 28)),  # input layer (1): One neuron per pixel\n",
        "    keras.layers.Dense(128, activation='relu'),  # hidden layer (2): Negative values are set to 0\n",
        "    keras.layers.Dense(10, activation='softmax') # output layer (3): [0-1] and sum equal to 1. One neuron per possible label\n",
        "])"
      ],
      "execution_count": 22,
      "outputs": []
    },
    {
      "cell_type": "markdown",
      "metadata": {
        "id": "_GFAlFSjrTo-",
        "colab_type": "text"
      },
      "source": [
        "Model compile"
      ]
    },
    {
      "cell_type": "code",
      "metadata": {
        "id": "8YXmXZhbrS_v",
        "colab_type": "code",
        "colab": {}
      },
      "source": [
        "model.compile(optimizer='adam',\n",
        "              loss='sparse_categorical_crossentropy',\n",
        "              metrics=['accuracy'])"
      ],
      "execution_count": 23,
      "outputs": []
    },
    {
      "cell_type": "markdown",
      "metadata": {
        "id": "MerSXNfnrblm",
        "colab_type": "text"
      },
      "source": [
        "Model Train"
      ]
    },
    {
      "cell_type": "code",
      "metadata": {
        "id": "dALm7XKOralL",
        "colab_type": "code",
        "colab": {}
      },
      "source": [
        "model.fit(train_images, train_labels, epochs=10) "
      ],
      "execution_count": null,
      "outputs": []
    },
    {
      "cell_type": "markdown",
      "metadata": {
        "id": "7VzF-zexr5o8",
        "colab_type": "text"
      },
      "source": [
        "Model evaluation"
      ]
    },
    {
      "cell_type": "code",
      "metadata": {
        "id": "A5TabCScr7LV",
        "colab_type": "code",
        "colab": {
          "base_uri": "https://localhost:8080/",
          "height": 51
        },
        "outputId": "4d63b388-405f-41a6-baf7-9e3c3e2f9b50"
      },
      "source": [
        "test_loss, test_acc = model.evaluate(test_images,  test_labels, verbose=1) \n",
        "print('Test accuracy:', test_acc)"
      ],
      "execution_count": 25,
      "outputs": [
        {
          "output_type": "stream",
          "text": [
            "313/313 [==============================] - 0s 1ms/step - loss: 0.3348 - accuracy: 0.8831\n",
            "Test accuracy: 0.8830999732017517\n"
          ],
          "name": "stdout"
        }
      ]
    },
    {
      "cell_type": "markdown",
      "metadata": {
        "id": "q7ibNsoYtKG_",
        "colab_type": "text"
      },
      "source": [
        "Predictions"
      ]
    },
    {
      "cell_type": "code",
      "metadata": {
        "id": "9dvE1aOztME7",
        "colab_type": "code",
        "colab": {}
      },
      "source": [
        "predictions = model.predict(test_images)\n",
        "print(\"first sample output: \"+str(predictions[0]))# Last probability is the largest, which corresponds to neuron 9: 'Ankle boot'\n",
        "print(\"predicted: \"+str(np.argmax(predictions[0])))\n",
        "print(\"observed: \"+str(test_labels[0]))"
      ],
      "execution_count": null,
      "outputs": []
    },
    {
      "cell_type": "markdown",
      "metadata": {
        "id": "LK0bq39DuKJm",
        "colab_type": "text"
      },
      "source": [
        "Testing predictions"
      ]
    },
    {
      "cell_type": "code",
      "metadata": {
        "id": "N6gL_M9duPZs",
        "colab_type": "code",
        "colab": {}
      },
      "source": [
        "def predict(model, image, observed_label):\n",
        "  #calls show_image\n",
        "\n",
        "  #model: model\n",
        "  #image: sample, vector of 784 values\n",
        "  #observed_label: observed sample label, Str in class_names = ['T-shirt/top', 'Trouser', 'Pullover', 'Dress', 'Coat','Sandal', 'Shirt', 'Sneaker', 'Bag', 'Ankle boot']\n",
        "  prediction = model.predict(np.array([image]))\n",
        "  predicted_class = class_names[np.argmax(prediction)]\n",
        "\n",
        "  show_image(image, class_names[observed_label], predicted_class)\n",
        "\n",
        "\n",
        "def show_image(image, observed_label, predicted_label):\n",
        "  #prints sample image two Str indicating observed and predicted label\n",
        "\n",
        "  #image: sample, vector of 784 values\n",
        "  #observed_label: observed sample label, Str in class_names = ['T-shirt/top', 'Trouser', 'Pullover', 'Dress', 'Coat','Sandal', 'Shirt', 'Sneaker', 'Bag', 'Ankle boot']\n",
        "  #predicted_label: predicted sample label, Str in class_names = ['T-shirt/top', 'Trouser', 'Pullover', 'Dress', 'Coat','Sandal', 'Shirt', 'Sneaker', 'Bag', 'Ankle boot']\n",
        "\n",
        "  plt.figure()\n",
        "  plt.imshow(image, cmap=plt.cm.binary)\n",
        "  plt.title(\"Expected: \" + observed_label)\n",
        "  plt.xlabel(\"Predicted: \" + predicted_label)\n",
        "  plt.colorbar()\n",
        "  plt.grid(False)\n",
        "  plt.show()\n",
        "\n",
        "\n",
        "def get_test_sample_index():\n",
        "  #get tets sample index typed by user in a prompt display\n",
        "\n",
        "  while True:\n",
        "    num = input(\"Pick test sample index (integer below 10000): \")\n",
        "    if num.isdigit():\n",
        "      num = int(num)\n",
        "      if 0 <= num <= 10000:\n",
        "        return int(num)\n",
        "    else:\n",
        "      print(\"Error, input should be integer below 10000\")\n",
        "\n",
        "num = get_test_sample_index()#int below 10000, index of test sample\n",
        "image = test_images[num]#sample, vector of 784 values\n",
        "label = test_labels[num]#sample label, Str in class_names = ['T-shirt/top', 'Trouser', 'Pullover', 'Dress', 'Coat','Sandal', 'Shirt', 'Sneaker', 'Bag', 'Ankle boot']\n",
        "predict(model, image, label)\n"
      ],
      "execution_count": null,
      "outputs": []
    }
  ]
}